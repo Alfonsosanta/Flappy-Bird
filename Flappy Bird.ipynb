{
 "cells": [
  {
   "cell_type": "code",
   "execution_count": 1,
   "metadata": {},
   "outputs": [
    {
     "name": "stdout",
     "output_type": "stream",
     "text": [
      "Note: you may need to restart the kernel to use updated packages.\n"
     ]
    },
    {
     "name": "stderr",
     "output_type": "stream",
     "text": [
      "\n",
      "[notice] A new release of pip is available: 24.2 -> 25.0\n",
      "[notice] To update, run: python.exe -m pip install --upgrade pip\n"
     ]
    },
    {
     "name": "stdout",
     "output_type": "stream",
     "text": [
      "Collecting pygame\n",
      "  Downloading pygame-2.6.1-cp312-cp312-win_amd64.whl.metadata (13 kB)\n",
      "Downloading pygame-2.6.1-cp312-cp312-win_amd64.whl (10.6 MB)\n",
      "   ---------------------------------------- 0.0/10.6 MB ? eta -:--:--\n",
      "   -- ------------------------------------- 0.8/10.6 MB 3.7 MB/s eta 0:00:03\n",
      "   ----- ---------------------------------- 1.6/10.6 MB 4.2 MB/s eta 0:00:03\n",
      "   --------- ------------------------------ 2.6/10.6 MB 4.2 MB/s eta 0:00:02\n",
      "   ------------ --------------------------- 3.4/10.6 MB 4.1 MB/s eta 0:00:02\n",
      "   --------------- ------------------------ 4.2/10.6 MB 4.1 MB/s eta 0:00:02\n",
      "   ------------------- -------------------- 5.2/10.6 MB 4.1 MB/s eta 0:00:02\n",
      "   ---------------------- ----------------- 6.0/10.6 MB 4.1 MB/s eta 0:00:02\n",
      "   -------------------------- ------------- 7.1/10.6 MB 4.2 MB/s eta 0:00:01\n",
      "   ----------------------------- ---------- 7.9/10.6 MB 4.2 MB/s eta 0:00:01\n",
      "   -------------------------------- ------- 8.7/10.6 MB 4.2 MB/s eta 0:00:01\n",
      "   ------------------------------------ --- 9.7/10.6 MB 4.2 MB/s eta 0:00:01\n",
      "   ---------------------------------------  10.5/10.6 MB 4.2 MB/s eta 0:00:01\n",
      "   ---------------------------------------- 10.6/10.6 MB 4.1 MB/s eta 0:00:00\n",
      "Installing collected packages: pygame\n",
      "Successfully installed pygame-2.6.1\n"
     ]
    }
   ],
   "source": [
    "pip install pygame\n"
   ]
  },
  {
   "cell_type": "code",
   "execution_count": 6,
   "metadata": {},
   "outputs": [],
   "source": [
    "import pygame\n",
    "import random\n",
    "\n",
    "# Initialize Pygame\n",
    "pygame.init()\n",
    "\n",
    "# Constants\n",
    "WIDTH, HEIGHT = 400, 600\n",
    "BIRD_X, BIRD_Y = 50, HEIGHT // 2\n",
    "GRAVITY = 0.5\n",
    "JUMP_STRENGTH = -10\n",
    "PIPE_WIDTH = 70\n",
    "PIPE_HEIGHT = 500\n",
    "PIPE_GAP = 150\n",
    "PIPE_SPEED = 3\n",
    "SCORE = 0\n",
    "\n",
    "# Colors\n",
    "WHITE = (255, 255, 255)\n",
    "BLUE = (135, 206, 250)\n",
    "GREEN = (0, 255, 0)\n",
    "\n",
    "# Set up screen\n",
    "screen = pygame.display.set_mode((WIDTH, HEIGHT))\n",
    "pygame.display.set_caption(\"Flappy Bird\")\n",
    "\n",
    "# Load bird image\n",
    "bird_img = pygame.image.load(\"bird.png\")\n",
    "bird_img = pygame.transform.scale(bird_img, (40, 30))\n",
    "\n",
    "# Bird properties\n",
    "bird = pygame.Rect(BIRD_X, BIRD_Y, 40, 30)\n",
    "bird_velocity = 0\n",
    "\n",
    "# Pipes list\n",
    "pipes = []\n",
    "pipe_x = WIDTH\n",
    "pipe_y = random.randint(200, 400)\n",
    "pipes.append(pygame.Rect(pipe_x, pipe_y, PIPE_WIDTH, PIPE_HEIGHT))\n",
    "pipes.append(pygame.Rect(pipe_x, pipe_y - PIPE_GAP - PIPE_HEIGHT, PIPE_WIDTH, PIPE_HEIGHT))\n",
    "\n",
    "# Game loop\n",
    "running = True\n",
    "clock = pygame.time.Clock()\n",
    "\n",
    "while running:\n",
    "    screen.fill(BLUE)  # Background color\n",
    "\n",
    "    for event in pygame.event.get():\n",
    "        if event.type == pygame.QUIT:\n",
    "            running = False\n",
    "        if event.type == pygame.KEYDOWN:\n",
    "            if event.key == pygame.K_SPACE:\n",
    "                bird_velocity = JUMP_STRENGTH\n",
    "\n",
    "    # Apply gravity\n",
    "    bird_velocity += GRAVITY\n",
    "    bird.y += bird_velocity\n",
    "\n",
    "    # Move pipes\n",
    "    for pipe in pipes:\n",
    "        pipe.x -= PIPE_SPEED\n",
    "\n",
    "    # Generate new pipes\n",
    "    if pipes[0].x < -PIPE_WIDTH:\n",
    "        pipes.pop(0)\n",
    "        pipes.pop(0)\n",
    "        pipe_x = WIDTH\n",
    "        pipe_y = random.randint(200, 400)\n",
    "        pipes.append(pygame.Rect(pipe_x, pipe_y, PIPE_WIDTH, PIPE_HEIGHT))\n",
    "        pipes.append(pygame.Rect(pipe_x, pipe_y - PIPE_GAP - PIPE_HEIGHT, PIPE_WIDTH, PIPE_HEIGHT))\n",
    "        SCORE += 1\n",
    "\n",
    "    # Draw bird\n",
    "    screen.blit(bird_img, (bird.x, bird.y))\n",
    "\n",
    "    # Draw pipes\n",
    "    for pipe in pipes:\n",
    "        pygame.draw.rect(screen, GREEN, pipe)\n",
    "\n",
    "    # Collision detection\n",
    "    if bird.y < 0 or bird.y > HEIGHT:\n",
    "        running = False\n",
    "    for pipe in pipes:\n",
    "        if bird.colliderect(pipe):\n",
    "            running = False\n",
    "\n",
    "    # Update screen\n",
    "    pygame.display.update()\n",
    "    clock.tick(30)\n",
    "\n",
    "pygame.quit()\n"
   ]
  }
 ],
 "metadata": {
  "kernelspec": {
   "display_name": "Python 3",
   "language": "python",
   "name": "python3"
  },
  "language_info": {
   "codemirror_mode": {
    "name": "ipython",
    "version": 3
   },
   "file_extension": ".py",
   "mimetype": "text/x-python",
   "name": "python",
   "nbconvert_exporter": "python",
   "pygments_lexer": "ipython3",
   "version": "3.12.5"
  }
 },
 "nbformat": 4,
 "nbformat_minor": 2
}
